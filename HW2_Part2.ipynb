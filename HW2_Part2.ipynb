{
 "cells": [
  {
   "cell_type": "markdown",
   "metadata": {},
   "source": [
    "# Вахитов Юрий БКЛ182 ДЗ 2 Часть 2"
   ]
  },
  {
   "cell_type": "markdown",
   "metadata": {},
   "source": [
    "### Подготовка\n",
    "### импоритруем все необходимые модули"
   ]
  },
  {
   "cell_type": "code",
   "execution_count": 101,
   "metadata": {},
   "outputs": [],
   "source": [
    "from pprint import pprint\n",
    "from pymorphy2 import MorphAnalyzer\n",
    "morph = MorphAnalyzer()\n",
    "import nltk\n",
    "from nltk import draw\n",
    "from nltk.tokenize import word_tokenize\n",
    "import json\n",
    "import collections\n",
    "import pandas as pd\n",
    "import seaborn as sns\n",
    "import random\n",
    "random.seed = 23\n",
    "from nltk.probability import FreqDist\n",
    "%matplotlib inline\n",
    "import matplotlib.pyplot as plt\n",
    "\n"
   ]
  },
  {
   "cell_type": "markdown",
   "metadata": {},
   "source": [
    "### Открываю книгу (Айзек Азимов \"Основание Земли\")"
   ]
  },
  {
   "cell_type": "code",
   "execution_count": 102,
   "metadata": {},
   "outputs": [],
   "source": [
    "with open('book.txt', 'r', encoding='utf-8') as f:\n",
    "    text = f.read()\n",
    "    tokens = word_tokenize(text)\n"
   ]
  },
  {
   "cell_type": "markdown",
   "metadata": {},
   "source": [
    "### Токенизация  и парсинг текста"
   ]
  },
  {
   "cell_type": "code",
   "execution_count": 103,
   "metadata": {},
   "outputs": [],
   "source": [
    "tokens = word_tokenize(text)\n",
    "lemmas = []\n",
    "for i in tokens:\n",
    "    lemma = morph.parse(i)\n",
    "    lemmas.append(lemma)"
   ]
  },
  {
   "cell_type": "markdown",
   "metadata": {},
   "source": [
    "### Создаю список словарей "
   ]
  },
  {
   "cell_type": "code",
   "execution_count": 104,
   "metadata": {},
   "outputs": [],
   "source": [
    "lemmas_2 = []\n",
    "for i in range(len(lemmas)):\n",
    "    wordform = lemmas[i][0]\n",
    "    lemmas_2.append({'Слово': wordform.word,\n",
    "                      'Лемма': wordform.normal_form,\n",
    "                      'Часть речи': wordform.tag.POS,\n",
    "                      'Падеж': wordform.tag.case,\n",
    "                      'Число': wordform.tag.number,\n",
    "                      'Род': wordform.tag.gender,\n",
    "                      'Одушевленность': wordform.tag.animacy,\n",
    "                      'Вид': wordform.tag.aspect,\n",
    "                      'Включенность': wordform.tag.involvement,\n",
    "                      'Наклонение': wordform.tag.mood,\n",
    "                      'Лицо': wordform.tag.person,\n",
    "                      'Время': wordform.tag.tense,\n",
    "                      'Переходность': wordform.tag.transitivity,\n",
    "                      'Залог ': wordform.tag.voice\n",
    "                     }\n",
    "                    )"
   ]
  },
  {
   "cell_type": "markdown",
   "metadata": {},
   "source": [
    "## Задание 1"
   ]
  },
  {
   "cell_type": "markdown",
   "metadata": {},
   "source": [
    "### Преобразовываю данные в датафрейм\n",
    "### Вывожу их"
   ]
  },
  {
   "cell_type": "code",
   "execution_count": 105,
   "metadata": {},
   "outputs": [
    {
     "data": {
      "text/html": [
       "<div>\n",
       "<style scoped>\n",
       "    .dataframe tbody tr th:only-of-type {\n",
       "        vertical-align: middle;\n",
       "    }\n",
       "\n",
       "    .dataframe tbody tr th {\n",
       "        vertical-align: top;\n",
       "    }\n",
       "\n",
       "    .dataframe thead th {\n",
       "        text-align: right;\n",
       "    }\n",
       "</style>\n",
       "<table border=\"1\" class=\"dataframe\">\n",
       "  <thead>\n",
       "    <tr style=\"text-align: right;\">\n",
       "      <th></th>\n",
       "      <th>Слово</th>\n",
       "      <th>Лемма</th>\n",
       "      <th>Часть речи</th>\n",
       "      <th>Падеж</th>\n",
       "      <th>Число</th>\n",
       "      <th>Род</th>\n",
       "      <th>Одушевленность</th>\n",
       "      <th>Вид</th>\n",
       "      <th>Включенность</th>\n",
       "      <th>Наклонение</th>\n",
       "      <th>Лицо</th>\n",
       "      <th>Время</th>\n",
       "      <th>Переходность</th>\n",
       "      <th>Залог</th>\n",
       "    </tr>\n",
       "  </thead>\n",
       "  <tbody>\n",
       "    <tr>\n",
       "      <td>0</td>\n",
       "      <td>айзек</td>\n",
       "      <td>айзек</td>\n",
       "      <td>NOUN</td>\n",
       "      <td>nomn</td>\n",
       "      <td>sing</td>\n",
       "      <td>masc</td>\n",
       "      <td>anim</td>\n",
       "      <td></td>\n",
       "      <td></td>\n",
       "      <td></td>\n",
       "      <td></td>\n",
       "      <td></td>\n",
       "      <td></td>\n",
       "      <td></td>\n",
       "    </tr>\n",
       "    <tr>\n",
       "      <td>1</td>\n",
       "      <td>азимов</td>\n",
       "      <td>азим</td>\n",
       "      <td>NOUN</td>\n",
       "      <td>gent</td>\n",
       "      <td>plur</td>\n",
       "      <td>masc</td>\n",
       "      <td>anim</td>\n",
       "      <td></td>\n",
       "      <td></td>\n",
       "      <td></td>\n",
       "      <td></td>\n",
       "      <td></td>\n",
       "      <td></td>\n",
       "      <td></td>\n",
       "    </tr>\n",
       "    <tr>\n",
       "      <td>2</td>\n",
       "      <td>.</td>\n",
       "      <td>.</td>\n",
       "      <td></td>\n",
       "      <td></td>\n",
       "      <td></td>\n",
       "      <td></td>\n",
       "      <td></td>\n",
       "      <td></td>\n",
       "      <td></td>\n",
       "      <td></td>\n",
       "      <td></td>\n",
       "      <td></td>\n",
       "      <td></td>\n",
       "      <td></td>\n",
       "    </tr>\n",
       "    <tr>\n",
       "      <td>3</td>\n",
       "      <td>основание</td>\n",
       "      <td>основание</td>\n",
       "      <td>NOUN</td>\n",
       "      <td>nomn</td>\n",
       "      <td>sing</td>\n",
       "      <td>neut</td>\n",
       "      <td>inan</td>\n",
       "      <td></td>\n",
       "      <td></td>\n",
       "      <td></td>\n",
       "      <td></td>\n",
       "      <td></td>\n",
       "      <td></td>\n",
       "      <td></td>\n",
       "    </tr>\n",
       "    <tr>\n",
       "      <td>4</td>\n",
       "      <td>и</td>\n",
       "      <td>и</td>\n",
       "      <td>CONJ</td>\n",
       "      <td></td>\n",
       "      <td></td>\n",
       "      <td></td>\n",
       "      <td></td>\n",
       "      <td></td>\n",
       "      <td></td>\n",
       "      <td></td>\n",
       "      <td></td>\n",
       "      <td></td>\n",
       "      <td></td>\n",
       "      <td></td>\n",
       "    </tr>\n",
       "    <tr>\n",
       "      <td>...</td>\n",
       "      <td>...</td>\n",
       "      <td>...</td>\n",
       "      <td>...</td>\n",
       "      <td>...</td>\n",
       "      <td>...</td>\n",
       "      <td>...</td>\n",
       "      <td>...</td>\n",
       "      <td>...</td>\n",
       "      <td>...</td>\n",
       "      <td>...</td>\n",
       "      <td>...</td>\n",
       "      <td>...</td>\n",
       "      <td>...</td>\n",
       "      <td>...</td>\n",
       "    </tr>\n",
       "    <tr>\n",
       "      <td>146435</td>\n",
       "      <td>,</td>\n",
       "      <td>,</td>\n",
       "      <td></td>\n",
       "      <td></td>\n",
       "      <td></td>\n",
       "      <td></td>\n",
       "      <td></td>\n",
       "      <td></td>\n",
       "      <td></td>\n",
       "      <td></td>\n",
       "      <td></td>\n",
       "      <td></td>\n",
       "      <td></td>\n",
       "      <td></td>\n",
       "    </tr>\n",
       "    <tr>\n",
       "      <td>146436</td>\n",
       "      <td>преобразователя</td>\n",
       "      <td>преобразователь</td>\n",
       "      <td>NOUN</td>\n",
       "      <td>gent</td>\n",
       "      <td>sing</td>\n",
       "      <td>masc</td>\n",
       "      <td>inan</td>\n",
       "      <td></td>\n",
       "      <td></td>\n",
       "      <td></td>\n",
       "      <td></td>\n",
       "      <td></td>\n",
       "      <td></td>\n",
       "      <td></td>\n",
       "    </tr>\n",
       "    <tr>\n",
       "      <td>146437</td>\n",
       "      <td>,</td>\n",
       "      <td>,</td>\n",
       "      <td></td>\n",
       "      <td></td>\n",
       "      <td></td>\n",
       "      <td></td>\n",
       "      <td></td>\n",
       "      <td></td>\n",
       "      <td></td>\n",
       "      <td></td>\n",
       "      <td></td>\n",
       "      <td></td>\n",
       "      <td></td>\n",
       "      <td></td>\n",
       "    </tr>\n",
       "    <tr>\n",
       "      <td>146438</td>\n",
       "      <td>иного</td>\n",
       "      <td>иной</td>\n",
       "      <td>ADJF</td>\n",
       "      <td>gent</td>\n",
       "      <td>sing</td>\n",
       "      <td>neut</td>\n",
       "      <td></td>\n",
       "      <td></td>\n",
       "      <td></td>\n",
       "      <td></td>\n",
       "      <td></td>\n",
       "      <td></td>\n",
       "      <td></td>\n",
       "      <td></td>\n",
       "    </tr>\n",
       "    <tr>\n",
       "      <td>146439</td>\n",
       "      <td>...</td>\n",
       "      <td>...</td>\n",
       "      <td></td>\n",
       "      <td></td>\n",
       "      <td></td>\n",
       "      <td></td>\n",
       "      <td></td>\n",
       "      <td></td>\n",
       "      <td></td>\n",
       "      <td></td>\n",
       "      <td></td>\n",
       "      <td></td>\n",
       "      <td></td>\n",
       "      <td></td>\n",
       "    </tr>\n",
       "  </tbody>\n",
       "</table>\n",
       "<p>146440 rows × 14 columns</p>\n",
       "</div>"
      ],
      "text/plain": [
       "                  Слово            Лемма Часть речи Падеж Число   Род  \\\n",
       "0                 айзек            айзек       NOUN  nomn  sing  masc   \n",
       "1                азимов             азим       NOUN  gent  plur  masc   \n",
       "2                     .                .                                \n",
       "3             основание        основание       NOUN  nomn  sing  neut   \n",
       "4                     и                и       CONJ                     \n",
       "...                 ...              ...        ...   ...   ...   ...   \n",
       "146435                ,                ,                                \n",
       "146436  преобразователя  преобразователь       NOUN  gent  sing  masc   \n",
       "146437                ,                ,                                \n",
       "146438            иного             иной       ADJF  gent  sing  neut   \n",
       "146439              ...              ...                                \n",
       "\n",
       "       Одушевленность Вид Включенность Наклонение Лицо Время Переходность  \\\n",
       "0                anim                                                       \n",
       "1                anim                                                       \n",
       "2                                                                           \n",
       "3                inan                                                       \n",
       "4                                                                           \n",
       "...               ...  ..          ...        ...  ...   ...          ...   \n",
       "146435                                                                      \n",
       "146436           inan                                                       \n",
       "146437                                                                      \n",
       "146438                                                                      \n",
       "146439                                                                      \n",
       "\n",
       "       Залог   \n",
       "0              \n",
       "1              \n",
       "2              \n",
       "3              \n",
       "4              \n",
       "...       ...  \n",
       "146435         \n",
       "146436         \n",
       "146437         \n",
       "146438         \n",
       "146439         \n",
       "\n",
       "[146440 rows x 14 columns]"
      ]
     },
     "execution_count": 105,
     "metadata": {},
     "output_type": "execute_result"
    }
   ],
   "source": [
    "dataframe = pd.DataFrame(lemmas_pm).fillna('')\n",
    "dataframe"
   ]
  },
  {
   "cell_type": "markdown",
   "metadata": {},
   "source": [
    "## Задание 2"
   ]
  },
  {
   "cell_type": "markdown",
   "metadata": {},
   "source": [
    "### График 1\n",
    "#### Разделяю падежи по частотности "
   ]
  },
  {
   "cell_type": "code",
   "execution_count": 106,
   "metadata": {},
   "outputs": [
    {
     "data": {
      "image/png": "[encoded data removed]",
      "text/plain": [
       "<Figure size 432x288 with 1 Axes>"
      ]
     },
     "metadata": {
      "needs_background": "light"
     },
     "output_type": "display_data"
    }
   ],
   "source": [
    "df['Падеж'].value_counts().plot.bar(color='purple'); \n",
    "plt.title('Падеж')\n",
    "plt.xlabel('Падеж')\n",
    "plt.ylabel('number of entries');\n",
    "\n"
   ]
  },
  {
   "cell_type": "markdown",
   "metadata": {},
   "source": [
    "### График 2\n",
    "Разделяю по частотности род при помощи другого графика"
   ]
  },
  {
   "cell_type": "code",
   "execution_count": 107,
   "metadata": {},
   "outputs": [
    {
     "data": {
      "image/png": "[encoded data removed]",
      "text/plain": [
       "<Figure size 576x576 with 1 Axes>"
      ]
     },
     "metadata": {},
     "output_type": "display_data"
    }
   ],
   "source": [
    "plt.figure(figsize=(8, 8))\n",
    "dataframe['Род'].value_counts().plot(kind='pie');\n",
    "plt.title('Род');\n"
   ]
  },
  {
   "cell_type": "markdown",
   "metadata": {},
   "source": [
    "### График 3\n",
    "Длина слов"
   ]
  },
  {
   "cell_type": "code",
   "execution_count": 56,
   "metadata": {},
   "outputs": [
    {
     "data": {
      "image/png": "[encoded data removed]",
      "text/plain": [
       "<Figure size 720x432 with 1 Axes>"
      ]
     },
     "metadata": {
      "needs_background": "light"
     },
     "output_type": "display_data"
    }
   ],
   "source": [
    "dataframe['length'] = df['Слово'].apply(len)\n",
    "plt.figure(figsize=(10, 6))\n",
    "sns.distplot(dataframe['length'], bins=17, color='Black')\n",
    "plt.title('Distribution of word length')\n",
    "plt.ylabel('%')\n",
    "plt.xlabel('Length of word');"
   ]
  },
  {
   "cell_type": "markdown",
   "metadata": {},
   "source": [
    "## Задание 3"
   ]
  },
  {
   "cell_type": "markdown",
   "metadata": {},
   "source": [
    "### Свой график\n",
    "Рассматриваю по частотности формы глагола \"идти\" "
   ]
  },
  {
   "cell_type": "code",
   "execution_count": 91,
   "metadata": {},
   "outputs": [
    {
     "data": {
      "image/png": "[encoded data removed]",
      "text/plain": [
       "<Figure size 432x288 with 1 Axes>"
      ]
     },
     "metadata": {
      "needs_background": "light"
     },
     "output_type": "display_data"
    }
   ],
   "source": [
    "dataframe[df['Лемма'] == 'идти']['Слово'].value_counts().plot.bar(color='pink');\n",
    "plt.title('Частотность форм слова \"идти\"')\n",
    "plt.xlabel('Формы')\n",
    "plt.ylabel('number of entries');"
   ]
  },
  {
   "cell_type": "markdown",
   "metadata": {},
   "source": [
    "## Задание 4"
   ]
  },
  {
   "cell_type": "code",
   "execution_count": 53,
   "metadata": {},
   "outputs": [],
   "source": []
  },
  {
   "cell_type": "code",
   "execution_count": 100,
   "metadata": {},
   "outputs": [
    {
     "ename": "NameError",
     "evalue": "name 'dataframe' is not defined",
     "output_type": "error",
     "traceback": [
      "\u001b[1;31m---------------------------------------------------------------------------\u001b[0m",
      "\u001b[1;31mNameError\u001b[0m                                 Traceback (most recent call last)",
      "\u001b[1;32m<ipython-input-100-dab97d9d5584>\u001b[0m in \u001b[0;36m<module>\u001b[1;34m\u001b[0m\n\u001b[0;32m      1\u001b[0m \u001b[0mwords\u001b[0m \u001b[1;33m=\u001b[0m \u001b[1;33m[\u001b[0m\u001b[1;34m'Яков'\u001b[0m\u001b[1;33m,\u001b[0m \u001b[1;34m'Тревиз'\u001b[0m\u001b[1;33m]\u001b[0m\u001b[1;33m\u001b[0m\u001b[1;33m\u001b[0m\u001b[0m\n\u001b[1;32m----> 2\u001b[1;33m draw.dispersion.dispersion_plot(dataframe['Слово'], \n\u001b[0m\u001b[0;32m      3\u001b[0m \u001b[0mwords\u001b[0m\u001b[1;33m,\u001b[0m \u001b[0mignore_case\u001b[0m\u001b[1;33m=\u001b[0m\u001b[1;32mTrue\u001b[0m\u001b[1;33m,\u001b[0m\u001b[1;33m\u001b[0m\u001b[1;33m\u001b[0m\u001b[0m\n\u001b[0;32m      4\u001b[0m title=\"Lexical Dispersion Plot\")\n",
      "\u001b[1;31mNameError\u001b[0m: name 'dataframe' is not defined"
     ]
    }
   ],
   "source": [
    "words = ['Яков', 'Тревиз']\n",
    "draw.dispersion.dispersion_plot(dataframe['Слово'], \n",
    "words, ignore_case=True, \n",
    "title=\"Lexical Dispersion Plot\")"
   ]
  },
  {
   "cell_type": "code",
   "execution_count": null,
   "metadata": {},
   "outputs": [],
   "source": []
  }
 ],
 "metadata": {
  "kernelspec": {
   "display_name": "Python 3",
   "language": "python",
   "name": "python3"
  },
  "language_info": {
   "codemirror_mode": {
    "name": "ipython",
    "version": 3
   },
   "file_extension": ".py",
   "mimetype": "text/x-python",
   "name": "python",
   "nbconvert_exporter": "python",
   "pygments_lexer": "ipython3",
   "version": "3.7.3"
  }
 },
 "nbformat": 4,
 "nbformat_minor": 2
}
